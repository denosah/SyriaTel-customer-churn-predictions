{
 "cells": [
  {
   "cell_type": "markdown",
   "id": "5b00df35",
   "metadata": {},
   "source": [
    "# SyriaTel customer churn prediction\n",
    "## Business objective\n",
    "### Reduce rate of churners in SyriaTel communications\n",
    "### Reduce rate in financial loss when customers churn\n",
    "### Predict whether customers will fail to do business with SyriaTel communications\n",
    "## Business understanding\n",
    "### Stakeholder: SyriaTel Telecom retention team\n",
    "### Business problem customer churn leads to significant loss of $2.4M annual revenue loss\n",
    "### Need proactive retention strategy\n",
    "### Project goal: Build a classification model with 80% recall and 75% precision\n",
    "\n"
   ]
  },
  {
   "cell_type": "markdown",
   "id": "e579bbbd",
   "metadata": {},
   "source": [
    "## Data Understanding"
   ]
  },
  {
   "cell_type": "code",
   "execution_count": 41,
   "id": "9f41917b",
   "metadata": {},
   "outputs": [],
   "source": [
    "#import necessary libraries\n",
    "import sys\n",
    "import pandas as pd\n",
    "import numpy as np\n",
    "import os\n",
    "import matplotlib.pyplot as plt\n",
    "import seaborn as sns\n",
    "from sklearn.model_selection import train_test_split\n",
    "from sklearn.preprocessing import StandardScaler\n",
    "from sklearn.compose import ColumnTransformer\n",
    "from sklearn.pipeline import Pipeline\n",
    "from sklearn.linear_model import LogisticRegression\n",
    "from sklearn.ensemble import RandomForestClassifier\n",
    "from sklearn.metrics import accuracy_score, confusion_matrix, classification_report\n",
    "from sklearn.model_selection import GridSearchCV\n",
    "from sklearn.impute import SimpleImputer\n",
    "from sklearn.preprocessing import OneHotEncoder\n",
    "from sklearn.metrics import recall_score, precision_score, f1_score\n",
    "from sklearn.exceptions import NotFittedError\n",
    "from sklearn.utils.validation import check_is_fitted"
   ]
  },
  {
   "cell_type": "code",
   "execution_count": 42,
   "id": "df24491e",
   "metadata": {},
   "outputs": [],
   "source": [
    "# load the dataset\n",
    "df= pd.read_csv('bigml_59c28831336c6604c800002a.csv')"
   ]
  },
  {
   "cell_type": "code",
   "execution_count": 43,
   "id": "5f11bef0",
   "metadata": {},
   "outputs": [
    {
     "data": {
      "text/html": [
       "<div>\n",
       "<style scoped>\n",
       "    .dataframe tbody tr th:only-of-type {\n",
       "        vertical-align: middle;\n",
       "    }\n",
       "\n",
       "    .dataframe tbody tr th {\n",
       "        vertical-align: top;\n",
       "    }\n",
       "\n",
       "    .dataframe thead th {\n",
       "        text-align: right;\n",
       "    }\n",
       "</style>\n",
       "<table border=\"1\" class=\"dataframe\">\n",
       "  <thead>\n",
       "    <tr style=\"text-align: right;\">\n",
       "      <th></th>\n",
       "      <th>state</th>\n",
       "      <th>account length</th>\n",
       "      <th>area code</th>\n",
       "      <th>phone number</th>\n",
       "      <th>international plan</th>\n",
       "      <th>voice mail plan</th>\n",
       "      <th>number vmail messages</th>\n",
       "      <th>total day minutes</th>\n",
       "      <th>total day calls</th>\n",
       "      <th>total day charge</th>\n",
       "      <th>...</th>\n",
       "      <th>total eve calls</th>\n",
       "      <th>total eve charge</th>\n",
       "      <th>total night minutes</th>\n",
       "      <th>total night calls</th>\n",
       "      <th>total night charge</th>\n",
       "      <th>total intl minutes</th>\n",
       "      <th>total intl calls</th>\n",
       "      <th>total intl charge</th>\n",
       "      <th>customer service calls</th>\n",
       "      <th>churn</th>\n",
       "    </tr>\n",
       "  </thead>\n",
       "  <tbody>\n",
       "    <tr>\n",
       "      <th>0</th>\n",
       "      <td>KS</td>\n",
       "      <td>128</td>\n",
       "      <td>415</td>\n",
       "      <td>382-4657</td>\n",
       "      <td>no</td>\n",
       "      <td>yes</td>\n",
       "      <td>25</td>\n",
       "      <td>265.1</td>\n",
       "      <td>110</td>\n",
       "      <td>45.07</td>\n",
       "      <td>...</td>\n",
       "      <td>99</td>\n",
       "      <td>16.78</td>\n",
       "      <td>244.7</td>\n",
       "      <td>91</td>\n",
       "      <td>11.01</td>\n",
       "      <td>10.0</td>\n",
       "      <td>3</td>\n",
       "      <td>2.70</td>\n",
       "      <td>1</td>\n",
       "      <td>False</td>\n",
       "    </tr>\n",
       "    <tr>\n",
       "      <th>1</th>\n",
       "      <td>OH</td>\n",
       "      <td>107</td>\n",
       "      <td>415</td>\n",
       "      <td>371-7191</td>\n",
       "      <td>no</td>\n",
       "      <td>yes</td>\n",
       "      <td>26</td>\n",
       "      <td>161.6</td>\n",
       "      <td>123</td>\n",
       "      <td>27.47</td>\n",
       "      <td>...</td>\n",
       "      <td>103</td>\n",
       "      <td>16.62</td>\n",
       "      <td>254.4</td>\n",
       "      <td>103</td>\n",
       "      <td>11.45</td>\n",
       "      <td>13.7</td>\n",
       "      <td>3</td>\n",
       "      <td>3.70</td>\n",
       "      <td>1</td>\n",
       "      <td>False</td>\n",
       "    </tr>\n",
       "    <tr>\n",
       "      <th>2</th>\n",
       "      <td>NJ</td>\n",
       "      <td>137</td>\n",
       "      <td>415</td>\n",
       "      <td>358-1921</td>\n",
       "      <td>no</td>\n",
       "      <td>no</td>\n",
       "      <td>0</td>\n",
       "      <td>243.4</td>\n",
       "      <td>114</td>\n",
       "      <td>41.38</td>\n",
       "      <td>...</td>\n",
       "      <td>110</td>\n",
       "      <td>10.30</td>\n",
       "      <td>162.6</td>\n",
       "      <td>104</td>\n",
       "      <td>7.32</td>\n",
       "      <td>12.2</td>\n",
       "      <td>5</td>\n",
       "      <td>3.29</td>\n",
       "      <td>0</td>\n",
       "      <td>False</td>\n",
       "    </tr>\n",
       "    <tr>\n",
       "      <th>3</th>\n",
       "      <td>OH</td>\n",
       "      <td>84</td>\n",
       "      <td>408</td>\n",
       "      <td>375-9999</td>\n",
       "      <td>yes</td>\n",
       "      <td>no</td>\n",
       "      <td>0</td>\n",
       "      <td>299.4</td>\n",
       "      <td>71</td>\n",
       "      <td>50.90</td>\n",
       "      <td>...</td>\n",
       "      <td>88</td>\n",
       "      <td>5.26</td>\n",
       "      <td>196.9</td>\n",
       "      <td>89</td>\n",
       "      <td>8.86</td>\n",
       "      <td>6.6</td>\n",
       "      <td>7</td>\n",
       "      <td>1.78</td>\n",
       "      <td>2</td>\n",
       "      <td>False</td>\n",
       "    </tr>\n",
       "    <tr>\n",
       "      <th>4</th>\n",
       "      <td>OK</td>\n",
       "      <td>75</td>\n",
       "      <td>415</td>\n",
       "      <td>330-6626</td>\n",
       "      <td>yes</td>\n",
       "      <td>no</td>\n",
       "      <td>0</td>\n",
       "      <td>166.7</td>\n",
       "      <td>113</td>\n",
       "      <td>28.34</td>\n",
       "      <td>...</td>\n",
       "      <td>122</td>\n",
       "      <td>12.61</td>\n",
       "      <td>186.9</td>\n",
       "      <td>121</td>\n",
       "      <td>8.41</td>\n",
       "      <td>10.1</td>\n",
       "      <td>3</td>\n",
       "      <td>2.73</td>\n",
       "      <td>3</td>\n",
       "      <td>False</td>\n",
       "    </tr>\n",
       "  </tbody>\n",
       "</table>\n",
       "<p>5 rows × 21 columns</p>\n",
       "</div>"
      ],
      "text/plain": [
       "  state  account length  area code phone number international plan  \\\n",
       "0    KS             128        415     382-4657                 no   \n",
       "1    OH             107        415     371-7191                 no   \n",
       "2    NJ             137        415     358-1921                 no   \n",
       "3    OH              84        408     375-9999                yes   \n",
       "4    OK              75        415     330-6626                yes   \n",
       "\n",
       "  voice mail plan  number vmail messages  total day minutes  total day calls  \\\n",
       "0             yes                     25              265.1              110   \n",
       "1             yes                     26              161.6              123   \n",
       "2              no                      0              243.4              114   \n",
       "3              no                      0              299.4               71   \n",
       "4              no                      0              166.7              113   \n",
       "\n",
       "   total day charge  ...  total eve calls  total eve charge  \\\n",
       "0             45.07  ...               99             16.78   \n",
       "1             27.47  ...              103             16.62   \n",
       "2             41.38  ...              110             10.30   \n",
       "3             50.90  ...               88              5.26   \n",
       "4             28.34  ...              122             12.61   \n",
       "\n",
       "   total night minutes  total night calls  total night charge  \\\n",
       "0                244.7                 91               11.01   \n",
       "1                254.4                103               11.45   \n",
       "2                162.6                104                7.32   \n",
       "3                196.9                 89                8.86   \n",
       "4                186.9                121                8.41   \n",
       "\n",
       "   total intl minutes  total intl calls  total intl charge  \\\n",
       "0                10.0                 3               2.70   \n",
       "1                13.7                 3               3.70   \n",
       "2                12.2                 5               3.29   \n",
       "3                 6.6                 7               1.78   \n",
       "4                10.1                 3               2.73   \n",
       "\n",
       "   customer service calls  churn  \n",
       "0                       1  False  \n",
       "1                       1  False  \n",
       "2                       0  False  \n",
       "3                       2  False  \n",
       "4                       3  False  \n",
       "\n",
       "[5 rows x 21 columns]"
      ]
     },
     "execution_count": 43,
     "metadata": {},
     "output_type": "execute_result"
    }
   ],
   "source": [
    "# load the dataset first 5 rows\n",
    "df.head()"
   ]
  },
  {
   "cell_type": "code",
   "execution_count": 44,
   "id": "39e6c548",
   "metadata": {},
   "outputs": [
    {
     "name": "stdout",
     "output_type": "stream",
     "text": [
      "Shape of the dataset: (3333, 21)\n"
     ]
    }
   ],
   "source": [
    "\n",
    "#initial data exploration\n",
    "print(\"Shape of the dataset:\", df.shape)"
   ]
  },
  {
   "cell_type": "code",
   "execution_count": 45,
   "id": "52a78ddd",
   "metadata": {},
   "outputs": [
    {
     "name": "stdout",
     "output_type": "stream",
     "text": [
      "<class 'pandas.core.frame.DataFrame'>\n",
      "RangeIndex: 3333 entries, 0 to 3332\n",
      "Data columns (total 21 columns):\n",
      " #   Column                  Non-Null Count  Dtype  \n",
      "---  ------                  --------------  -----  \n",
      " 0   state                   3333 non-null   object \n",
      " 1   account length          3333 non-null   int64  \n",
      " 2   area code               3333 non-null   int64  \n",
      " 3   phone number            3333 non-null   object \n",
      " 4   international plan      3333 non-null   object \n",
      " 5   voice mail plan         3333 non-null   object \n",
      " 6   number vmail messages   3333 non-null   int64  \n",
      " 7   total day minutes       3333 non-null   float64\n",
      " 8   total day calls         3333 non-null   int64  \n",
      " 9   total day charge        3333 non-null   float64\n",
      " 10  total eve minutes       3333 non-null   float64\n",
      " 11  total eve calls         3333 non-null   int64  \n",
      " 12  total eve charge        3333 non-null   float64\n",
      " 13  total night minutes     3333 non-null   float64\n",
      " 14  total night calls       3333 non-null   int64  \n",
      " 15  total night charge      3333 non-null   float64\n",
      " 16  total intl minutes      3333 non-null   float64\n",
      " 17  total intl calls        3333 non-null   int64  \n",
      " 18  total intl charge       3333 non-null   float64\n",
      " 19  customer service calls  3333 non-null   int64  \n",
      " 20  churn                   3333 non-null   bool   \n",
      "dtypes: bool(1), float64(8), int64(8), object(4)\n",
      "memory usage: 524.2+ KB\n",
      "Data types and missing values:\n",
      " None\n"
     ]
    }
   ],
   "source": [
    "# check data types and missing values\n",
    "print(\"Data types and missing values:\\n\", df.info())"
   ]
  },
  {
   "cell_type": "code",
   "execution_count": 46,
   "id": "c4cc335e",
   "metadata": {},
   "outputs": [
    {
     "data": {
      "image/png": "[encoded data removed]",
      "text/plain": [
       "<Figure size 720x432 with 1 Axes>"
      ]
     },
     "metadata": {
      "needs_background": "light"
     },
     "output_type": "display_data"
    }
   ],
   "source": [
    "#target  distribution\n",
    "plt.figure(figsize=(10, 6))\n",
    "sns.countplot(x='churn',data=df)\n",
    "plt.title('Churn Distribution(14.5% churn rate)')\n",
    "plt.show()"
   ]
  },
  {
   "cell_type": "code",
   "execution_count": 47,
   "id": "981589d2",
   "metadata": {},
   "outputs": [
    {
     "data": {
      "image/png": "[encoded data removed]",
      "text/plain": [
       "<Figure size 1440x360 with 3 Axes>"
      ]
     },
     "metadata": {
      "needs_background": "light"
     },
     "output_type": "display_data"
    }
   ],
   "source": [
    "#feature analysis\n",
    "#categorical features\n",
    "cat_features = ['international plan', 'voice mail plan', 'state']\n",
    "fig, axes = plt.subplots(1, 3, figsize=(20, 5))\n",
    "for i, feature in enumerate(cat_features):\n",
    "    sns.countplot(x=feature, data=df,hue='churn', ax=axes[i])\n",
    "    axes[i].set_title(f'Distribution of {feature}')\n",
    "    plt.tight_layout()"
   ]
  },
  {
   "cell_type": "code",
   "execution_count": 48,
   "id": "3f37a854",
   "metadata": {},
   "outputs": [
    {
     "data": {
      "image/png": "[encoded data removed]",
      "text/plain": [
       "<Figure size 1440x360 with 3 Axes>"
      ]
     },
     "metadata": {
      "needs_background": "light"
     },
     "output_type": "display_data"
    }
   ],
   "source": [
    "#numerical features\n",
    "num_features = [ 'total day calls',  'total eve calls', 'customer service calls']\n",
    "fig, axes = plt.subplots(1, 3, figsize=(20, 5))\n",
    "for i, feature in enumerate(num_features):\n",
    "    sns.boxplot(x='churn', y=feature, data=df, ax=axes[i])\n",
    "    axes[i].set_title(f'{feature} vs Churn')\n",
    "    plt.tight_layout()"
   ]
  },
  {
   "cell_type": "code",
   "execution_count": 70,
   "id": "06297941",
   "metadata": {},
   "outputs": [],
   "source": [
    "#feature engineering\n",
    "# create new features\n",
    "df['total calls'] = df['total day calls'] + df['total eve calls'] + df['total night calls'] + df['total intl calls'] + df['customer service calls'] \n",
    "df['total calls'] = df['total calls'].astype(int)\n",
    "\n",
    "df['avg call duration'] = (df['total day minutes'] + df['total eve minutes'] + df['total night minutes'] + df['total intl minutes']) / df['total calls']\n",
    "df['avg call duration'] = df['avg call duration'].fillna(df['avg call duration'].mean())\n",
    "\n",
    "df['total call charge'] = (df['total day charge'] + df['total eve charge'] + df['total night charge'] + df['total intl charge'])\n",
    "df['total call charge'] = df['total call charge'].fillna(df['total call charge'].mean())\n"
   ]
  },
  {
   "cell_type": "code",
   "execution_count": 71,
   "id": "313d4cd6",
   "metadata": {},
   "outputs": [],
   "source": [
    "# train-test split\n",
    "X = df.drop(['churn','phone number','state'], axis=1)\n",
    "y = df['churn']\n",
    "X_train, X_test, y_train, y_test = train_test_split(X, y, test_size=0.2, random_state=42)\n"
   ]
  },
  {
   "cell_type": "code",
   "execution_count": 72,
   "id": "21293e37",
   "metadata": {},
   "outputs": [],
   "source": [
    "#preprocessing pipeline\n",
    "#define column types\n",
    "num_features =[ 'account length', 'total calls', 'avg call duration', 'total call charge']\n",
    "cat_features = ['international plan', 'voice mail plan']"
   ]
  },
  {
   "cell_type": "code",
   "execution_count": 73,
   "id": "91cb63a7",
   "metadata": {},
   "outputs": [],
   "source": [
    "#define transformers\n",
    "categorical_transformer = Pipeline(steps=[\n",
    "    ('imputer', SimpleImputer(strategy='most_frequent')),\n",
    "    ('onehot', OneHotEncoder(handle_unknown='ignore'))\n",
    "])"
   ]
  },
  {
   "cell_type": "code",
   "execution_count": 53,
   "id": "4de3d02f",
   "metadata": {},
   "outputs": [],
   "source": [
    "#create transformers\n",
    "preprocessor = ColumnTransformer(\n",
    "    transformers=[\n",
    "        ('num', StandardScaler(), num_features),\n",
    "        ('cat', categorical_transformer, cat_features)\n",
    "     ],\n",
    "    remainder='drop'  # drop any other columns not specified\n",
    ")"
   ]
  },
  {
   "cell_type": "code",
   "execution_count": 76,
   "id": "3282a8ed",
   "metadata": {},
   "outputs": [
    {
     "name": "stdout",
     "output_type": "stream",
     "text": [
      "preprocessing pipeline prevents data leakage by fitting only on training data.\n"
     ]
    }
   ],
   "source": [
    "#prevent data leakage\n",
    "pipeline = Pipeline(steps=[\n",
    "    ('preprocessor', preprocessor)\n",
    "])\n",
    "print(\"preprocessing pipeline prevents data leakage by fitting only on training data.\")"
   ]
  },
  {
   "cell_type": "code",
   "execution_count": 77,
   "id": "f4cfd6a4",
   "metadata": {},
   "outputs": [
    {
     "name": "stdout",
     "output_type": "stream",
     "text": [
      "baseline model performance:\n",
      "Recall: 0.13861386138613863\n",
      "Precision: 0.6086956521739131\n"
     ]
    }
   ],
   "source": [
    "#baseline model:logistic regression\n",
    "#simple interpretable model\n",
    "base_model = Pipeline(steps=[\n",
    "    ('preprocessor', preprocessor),\n",
    "    ('classifier', LogisticRegression())\n",
    "])\n",
    "\n",
    "base_model.fit(X_train, y_train)\n",
    "y_pred = base_model.predict(X_test)\n",
    "\n",
    "print(\"baseline model performance:\")\n",
    "print(f\"Recall: {recall_score(y_test, y_pred)}\")\n",
    "print(f\"Precision: {precision_score(y_test, y_pred)}\")\n",
    "\n",
    "\n"
   ]
  },
  {
   "cell_type": "code",
   "execution_count": 78,
   "id": "00fa9d77",
   "metadata": {},
   "outputs": [
    {
     "name": "stdout",
     "output_type": "stream",
     "text": [
      "\n",
      "Tuned Logistic Regression :\n",
      "Best parameters: {'classifier__C': 1, 'classifier__penalty': 'l2', 'classifier__solver': 'lbfgs'}\n"
     ]
    }
   ],
   "source": [
    "#model iteration:tuned logistic regression\n",
    "param_grid = {\n",
    "    'classifier__C': [0.01, 0.1, 1, 10, 100],\n",
    "    'classifier__penalty': ['l2'],\n",
    "    'classifier__solver': ['lbfgs', 'liblinear']\n",
    "}\n",
    "\n",
    "grid_search = GridSearchCV(base_model, param_grid, cv=5, scoring='recall')\n",
    "grid_search.fit(X_train, y_train)\n",
    "\n",
    "print(\"\\nTuned Logistic Regression :\")\n",
    "print(\"Best parameters:\", grid_search.best_params_)\n",
    "best_model = grid_search.best_estimator_"
   ]
  },
  {
   "cell_type": "code",
   "execution_count": 79,
   "id": "6f1b052d",
   "metadata": {},
   "outputs": [
    {
     "name": "stdout",
     "output_type": "stream",
     "text": [
      "\n",
      "Random Forest Classifier Performance:\n",
      "Recall: 0.4752475247524752\n"
     ]
    }
   ],
   "source": [
    "#model iteration:random forest classifier\n",
    "rf_model = Pipeline(steps=[\n",
    "    ('preprocessor', preprocessor),\n",
    "    ('classifier', RandomForestClassifier(random_state=42))\n",
    "])\n",
    "rf_model.fit(X_train, y_train)\n",
    "y_pred_rf = rf_model.predict(X_test)\n",
    "\n",
    "print(\"\\nRandom Forest Classifier Performance:\")\n",
    "print(f\"Recall: {recall_score(y_test, y_pred_rf)}\")\n",
    "\n"
   ]
  },
  {
   "cell_type": "code",
   "execution_count": 80,
   "id": "4dd01fc1",
   "metadata": {},
   "outputs": [
    {
     "name": "stdout",
     "output_type": "stream",
     "text": [
      "\n",
      "Tuned Random Forest Classifier:\n",
      "Best parameters: {'classifier__max_depth': 20, 'classifier__min_samples_split': 5, 'classifier__n_estimators': 200}\n",
      "Recall: 0.46534653465346537\n"
     ]
    }
   ],
   "source": [
    "#model iteration:Tuned random forest classifier\n",
    "rf_param_grid = {\n",
    "    'classifier__n_estimators': [50, 100, 200],\n",
    "    'classifier__max_depth': [5, 10, 20],\n",
    "    'classifier__min_samples_split': [2, 5, 10]\n",
    "}\n",
    "rf_tuned= GridSearchCV(rf_model, rf_param_grid, cv=5, scoring='recall')\n",
    "rf_tuned.fit(X_train, y_train)\n",
    "\n",
    "print(\"\\nTuned Random Forest Classifier:\")\n",
    "print(\"Best parameters:\", rf_tuned.best_params_)\n",
    "print(f\"Recall: {recall_score(y_test, rf_tuned.predict(X_test))}\")"
   ]
  },
  {
   "cell_type": "code",
   "execution_count": 61,
   "id": "aad8cb54",
   "metadata": {},
   "outputs": [
    {
     "name": "stdout",
     "output_type": "stream",
     "text": [
      "Model Comparison Results:\n",
      "          Model    Recall  Precision  F1 Score\n",
      "0  Baseline LR  0.138614   0.608696  0.225806\n",
      "1     Tuned LR  0.465347   0.839286  0.598726\n",
      "2           RF  0.475248   0.842105  0.607595\n",
      "3     Tuned RF  0.465347   0.839286  0.598726\n"
     ]
    }
   ],
   "source": [
    "#Evaluation\n",
    "#model comparison\n",
    "# Check if models are fitted before evaluation\n",
    "for model in [base_model, rf_model, rf_tuned.best_estimator_]:\n",
    "    try:\n",
    "        check_is_fitted(model)\n",
    "    except NotFittedError:\n",
    "        model.fit(X_train, y_train)\n",
    "# Evaluate models\n",
    "\n",
    "models = {\n",
    "    'Baseline LR': base_model,\n",
    "    'Tuned LR': rf_tuned.best_estimator_,\n",
    "    'RF': rf_model,\n",
    "    'Tuned RF': rf_tuned.best_estimator_\n",
    "}\n",
    "results = []\n",
    "for name, model in models.items():\n",
    "    y_pred = model.predict(X_test)\n",
    "    results.append({\n",
    "        'Model': name,\n",
    "        'Recall': recall_score(y_test, y_pred),\n",
    "        'Precision': precision_score(y_test, y_pred),\n",
    "        'F1 Score': f1_score(y_test, y_pred)\n",
    "    })\n",
    "\n",
    "results_df = pd.DataFrame(results)\n",
    "print(\"Model Comparison Results:\\n\", results_df)"
   ]
  },
  {
   "cell_type": "code",
   "execution_count": 81,
   "id": "dd9be98b",
   "metadata": {},
   "outputs": [],
   "source": [
    "#Business-Focused Evaluation\n",
    "#Select best model based on recall\n",
    "rf_model = rf_tuned.best_estimator_"
   ]
  },
  {
   "cell_type": "code",
   "execution_count": null,
   "id": "bb987f0a",
   "metadata": {},
   "outputs": [
    {
     "data": {
      "image/png": "[encoded data removed]",
      "text/plain": [
       "<Figure size 432x288 with 2 Axes>"
      ]
     },
     "metadata": {
      "needs_background": "light"
     },
     "output_type": "display_data"
    }
   ],
   "source": [
    "#Confusion Matrix\n",
    "cm= confusion_matrix(y_test, best_model.predict(X_test))\n",
    "sns.heatmap(cm, annot=True, fmt='d', cmap='Blues')\n",
    "plt.xlabel('Predicted')\n",
    "plt.ylabel('Actual')\n",
    "plt.title('Confusion Matrix')\n",
    "plt.show()"
   ]
  },
  {
   "cell_type": "code",
   "execution_count": 68,
   "id": "77b09c43",
   "metadata": {},
   "outputs": [
    {
     "data": {
      "image/png": "[encoded data removed]",
      "text/plain": [
       "<Figure size 864x576 with 1 Axes>"
      ]
     },
     "metadata": {
      "needs_background": "light"
     },
     "output_type": "display_data"
    }
   ],
   "source": [
    "#Feature Importance\n",
    "importances = rf_model.named_steps['classifier'].feature_importances_\n",
    "\n",
    "#get the preprocessor and encoder\n",
    "preprocessor = rf_model.named_steps['preprocessor']\n",
    "categorical_pipeline = preprocessor.transformers_[1][1]\n",
    "onehot_encoder = categorical_pipeline.named_steps['onehot']\n",
    "\n",
    "# Get feature names after one-hot encoding\n",
    "try:\n",
    "    cat_feature_names = onehot_encoder.get_feature_names_out(categorical_features=cat_features)\n",
    "except AttributeError:\n",
    "    cat_feature_names = onehot_encoder.get_feature_names(input_features=cat_features)\n",
    "\n",
    "feature_names = num_features + list(cat_feature_names)\n",
    "\n",
    "# Create a DataFrame for feature importances\n",
    "feature_importances_df = pd.DataFrame({\n",
    "    'Feature': feature_names,\n",
    "    'Importance': importances\n",
    "}).sort_values(by='Importance', ascending=False)\n",
    "\n",
    "# Plot feature importances\n",
    "plt.figure(figsize=(12, 8))\n",
    "sns.barplot(x='Importance', y='Feature', data=feature_importances_df)\n",
    "plt.title('Feature Importances from Random Forest Model')\n",
    "plt.show()\n"
   ]
  },
  {
   "cell_type": "markdown",
   "id": "224d48f0",
   "metadata": {},
   "source": [
    "## Limitations and recommendations\n",
    "### Key findings\n",
    "#### Top churn predictors: High customers service call(four more calls at four times churn risks), international plan subscribers at three times the churn risk and day charges $35 which is two times the churn risk\n",
    "#### Final model recalls 46% recall capturing chuners"
   ]
  },
  {
   "cell_type": "markdown",
   "id": "ac1c48a4",
   "metadata": {},
   "source": [
    "## limitations\n",
    "### Model underperforms for new customer\n",
    "### International roaming behaviour not cuptured in data"
   ]
  },
  {
   "cell_type": "markdown",
   "id": "60a2285b",
   "metadata": {},
   "source": [
    "## Recommendations\n",
    "### Retention tiers : Tier 1(high risk):10$ credit + dedicated support and tier 2 (medium risk):service quality review\n",
    "### Reduced service calls: improves first-call resolution and enhance self-service options\n",
    "### Collect more data e.g customer tenure to improve model accuracy"
   ]
  },
  {
   "cell_type": "markdown",
   "id": "56b1c98f",
   "metadata": {},
   "source": [
    "## ROI Estimate\n",
    "### Monthly savings of $60(2.5% churn reduction) adjusted due to lower recall\n",
    "### Implementation cost $50K (tech+incentives)\n",
    "### ROI (3months) 60% adjusted"
   ]
  },
  {
   "cell_type": "markdown",
   "id": "9634444e",
   "metadata": {},
   "source": []
  }
 ],
 "metadata": {
  "kernelspec": {
   "display_name": "learn-env",
   "language": "python",
   "name": "python3"
  },
  "language_info": {
   "codemirror_mode": {
    "name": "ipython",
    "version": 3
   },
   "file_extension": ".py",
   "mimetype": "text/x-python",
   "name": "python",
   "nbconvert_exporter": "python",
   "pygments_lexer": "ipython3",
   "version": "3.8.5"
  }
 },
 "nbformat": 4,
 "nbformat_minor": 5
}
